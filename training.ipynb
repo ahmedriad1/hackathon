{
 "cells": [
  {
   "cell_type": "code",
   "execution_count": 4,
   "metadata": {},
   "outputs": [],
   "source": [
    "import requests\n",
    "from bs4 import BeautifulSoup\n",
    "from json import loads"
   ]
  },
  {
   "cell_type": "code",
   "execution_count": 5,
   "metadata": {},
   "outputs": [],
   "source": [
    "pages = [\"managing-your-account\", \"using-twitter\", \"safety-and-security\", \"rules-and-policies\"]"
   ]
  },
  {
   "cell_type": "code",
   "execution_count": 12,
   "metadata": {},
   "outputs": [],
   "source": [
    "# scrape twitter faqs from help.twitter.com\n",
    "def get_faqs():\n",
    "  \"\"\"Scrape twitter faqs to get all posts\"\"\"\n",
    "  links = []\n",
    "\n",
    "  for page in pages:\n",
    "    url = f\"https://help.twitter.com/en/{page}\"\n",
    "    response = requests.get(url)\n",
    "    soup = BeautifulSoup(response.text, 'html.parser')\n",
    "    faqs = soup.find_all('div', {'class': 'h03__subcategory'})\n",
    "    # get json data from data-json-str attribute\n",
    "    for faq in faqs:\n",
    "      # parse json data and append .results to links\n",
    "      if (faq['data-json-str']):\n",
    "        links += loads(faq['data-json-str'])['results']\n",
    "\n",
    "  return links\n",
    "\n",
    "faqs = get_faqs()"
   ]
  },
  {
   "cell_type": "code",
   "execution_count": 44,
   "metadata": {},
   "outputs": [],
   "source": [
    "def get_posts(links):\n",
    "  \"\"\"Scrape twitter faqs to get all posts\"\"\"\n",
    "  posts = []\n",
    "\n",
    "  for link in links:\n",
    "    url = f\"https://help.twitter.com{link['url']}\"\n",
    "    response = requests.get(url)\n",
    "    soup = BeautifulSoup(response.text, 'html.parser')\n",
    "    sections = soup.find_all('div', {'class': 'ct01__content'})\n",
    "    title = soup.find('h2', {'class': 'b01__headline'})\n",
    "    if not title:\n",
    "      title = soup.find('h1', {'class': 'b01__headline'})\n",
    "\n",
    "    # ignore first and last sections\n",
    "    for section in sections[1:-1]:\n",
    "      posts.append(f\"=== {title.text.strip()} ===\\n\\n{section.text.strip()}\")\n",
    "\n",
    "  return posts"
   ]
  },
  {
   "cell_type": "code",
   "execution_count": 45,
   "metadata": {},
   "outputs": [],
   "source": [
    "posts = get_posts(faqs)"
   ]
  },
  {
   "cell_type": "code",
   "execution_count": 46,
   "metadata": {},
   "outputs": [
    {
     "name": "stdout",
     "output_type": "stream",
     "text": [
      "224\n"
     ]
    }
   ],
   "source": [
    "print(len(posts))"
   ]
  },
  {
   "cell_type": "code",
   "execution_count": 47,
   "metadata": {},
   "outputs": [
    {
     "name": "stdout",
     "output_type": "stream",
     "text": [
      "237235\n"
     ]
    }
   ],
   "source": [
    "# count all posts length\n",
    "total = 0\n",
    "for post in posts:\n",
    "  total += len(post)\n",
    "\n",
    "print(total)"
   ]
  },
  {
   "cell_type": "code",
   "execution_count": 48,
   "metadata": {},
   "outputs": [
    {
     "name": "stdout",
     "output_type": "stream",
     "text": [
      "Done!\n"
     ]
    }
   ],
   "source": [
    "# create a new file in data/ and write posts to it\n",
    "with open('data/twitter.txt', 'w') as f:\n",
    "  for post in posts:\n",
    "    f.write(f\"{post}\\n\\n\\n\")\n",
    "  \n",
    "  print(\"Done!\")\n"
   ]
  },
  {
   "cell_type": "code",
   "execution_count": 49,
   "metadata": {},
   "outputs": [
    {
     "name": "stdout",
     "output_type": "stream",
     "text": [
      "Collecting gpt-index\n",
      "  Downloading gpt_index-0.1.0.tar.gz (40 kB)\n",
      "\u001b[2K     \u001b[90m━━━━━━━━━━━━━━━━━━━━━━━━━━━━━━━━━━━━━━━━\u001b[0m \u001b[32m40.7/40.7 kB\u001b[0m \u001b[31m11.0 MB/s\u001b[0m eta \u001b[36m0:00:00\u001b[0m\n",
      "\u001b[?25h  Installing build dependencies ... \u001b[?25ldone\n",
      "\u001b[?25h  Getting requirements to build wheel ... \u001b[?25ldone\n",
      "\u001b[?25h  Preparing metadata (pyproject.toml) ... \u001b[?25ldone\n",
      "\u001b[?25hRequirement already satisfied: transformers in /usr/local/lib/python3.9/dist-packages (from gpt-index) (4.20.1)\n",
      "Requirement already satisfied: matplotlib in /usr/local/lib/python3.9/dist-packages (from gpt-index) (3.5.2)\n",
      "Collecting openai\n",
      "  Downloading openai-0.25.0.tar.gz (44 kB)\n",
      "\u001b[2K     \u001b[90m━━━━━━━━━━━━━━━━━━━━━━━━━━━━━━━━━━━━━━━━\u001b[0m \u001b[32m44.9/44.9 kB\u001b[0m \u001b[31m13.4 MB/s\u001b[0m eta \u001b[36m0:00:00\u001b[0m\n",
      "\u001b[?25h  Installing build dependencies ... \u001b[?25ldone\n",
      "\u001b[?25h  Getting requirements to build wheel ... \u001b[?25ldone\n",
      "\u001b[?25h  Preparing metadata (pyproject.toml) ... \u001b[?25ldone\n",
      "\u001b[?25hCollecting dataclasses-json\n",
      "  Downloading dataclasses_json-0.5.7-py3-none-any.whl (25 kB)\n",
      "Collecting langchain\n",
      "  Downloading langchain-0.0.34-py3-none-any.whl (119 kB)\n",
      "\u001b[2K     \u001b[90m━━━━━━━━━━━━━━━━━━━━━━━━━━━━━━━━━━━━━━\u001b[0m \u001b[32m119.4/119.4 kB\u001b[0m \u001b[31m33.7 MB/s\u001b[0m eta \u001b[36m0:00:00\u001b[0m\n",
      "\u001b[?25hRequirement already satisfied: scipy in /usr/local/lib/python3.9/dist-packages (from gpt-index) (1.8.1)\n",
      "Collecting plotly\n",
      "  Downloading plotly-5.11.0-py2.py3-none-any.whl (15.3 MB)\n",
      "\u001b[2K     \u001b[90m━━━━━━━━━━━━━━━━━━━━━━━━━━━━━━━━━━━━━━━━\u001b[0m \u001b[32m15.3/15.3 MB\u001b[0m \u001b[31m73.0 MB/s\u001b[0m eta \u001b[36m0:00:00\u001b[0m00:01\u001b[0m00:01\u001b[0m\n",
      "\u001b[?25hRequirement already satisfied: scikit-learn in /usr/local/lib/python3.9/dist-packages (from gpt-index) (1.1.1)\n",
      "Requirement already satisfied: nltk in /usr/local/lib/python3.9/dist-packages (from gpt-index) (3.7)\n",
      "Collecting marshmallow-enum<2.0.0,>=1.5.1\n",
      "  Downloading marshmallow_enum-1.5.1-py2.py3-none-any.whl (4.2 kB)\n",
      "Collecting marshmallow<4.0.0,>=3.3.0\n",
      "  Downloading marshmallow-3.19.0-py3-none-any.whl (49 kB)\n",
      "\u001b[2K     \u001b[90m━━━━━━━━━━━━━━━━━━━━━━━━━━━━━━━━━━━━━━━━\u001b[0m \u001b[32m49.1/49.1 kB\u001b[0m \u001b[31m16.3 MB/s\u001b[0m eta \u001b[36m0:00:00\u001b[0m\n",
      "\u001b[?25hCollecting typing-inspect>=0.4.0\n",
      "  Downloading typing_inspect-0.8.0-py3-none-any.whl (8.7 kB)\n",
      "Requirement already satisfied: SQLAlchemy<2,>=1 in /usr/local/lib/python3.9/dist-packages (from langchain->gpt-index) (1.4.39)\n",
      "Collecting PyYAML<7,>=6\n",
      "  Downloading PyYAML-6.0-cp39-cp39-manylinux_2_5_x86_64.manylinux1_x86_64.manylinux_2_12_x86_64.manylinux2010_x86_64.whl (661 kB)\n",
      "\u001b[2K     \u001b[90m━━━━━━━━━━━━━━━━━━━━━━━━━━━━━━━━━━━━━━\u001b[0m \u001b[32m661.8/661.8 kB\u001b[0m \u001b[31m82.8 MB/s\u001b[0m eta \u001b[36m0:00:00\u001b[0m\n",
      "\u001b[?25hRequirement already satisfied: numpy<2,>=1 in /usr/local/lib/python3.9/dist-packages (from langchain->gpt-index) (1.23.1)\n",
      "Requirement already satisfied: requests<3,>=2 in /usr/local/lib/python3.9/dist-packages (from langchain->gpt-index) (2.28.1)\n",
      "Requirement already satisfied: pydantic<2,>=1 in /usr/local/lib/python3.9/dist-packages (from langchain->gpt-index) (1.9.1)\n",
      "Requirement already satisfied: fonttools>=4.22.0 in /usr/local/lib/python3.9/dist-packages (from matplotlib->gpt-index) (4.34.4)\n",
      "Requirement already satisfied: pillow>=6.2.0 in /usr/local/lib/python3.9/dist-packages (from matplotlib->gpt-index) (9.2.0)\n",
      "Requirement already satisfied: kiwisolver>=1.0.1 in /usr/local/lib/python3.9/dist-packages (from matplotlib->gpt-index) (1.4.3)\n",
      "Requirement already satisfied: packaging>=20.0 in /usr/local/lib/python3.9/dist-packages (from matplotlib->gpt-index) (21.3)\n",
      "Requirement already satisfied: cycler>=0.10 in /usr/local/lib/python3.9/dist-packages (from matplotlib->gpt-index) (0.11.0)\n",
      "Requirement already satisfied: python-dateutil>=2.7 in /usr/local/lib/python3.9/dist-packages (from matplotlib->gpt-index) (2.8.2)\n",
      "Requirement already satisfied: pyparsing>=2.2.1 in /usr/local/lib/python3.9/dist-packages (from matplotlib->gpt-index) (3.0.9)\n",
      "Requirement already satisfied: joblib in /usr/local/lib/python3.9/dist-packages (from nltk->gpt-index) (1.1.0)\n",
      "Requirement already satisfied: tqdm in /usr/local/lib/python3.9/dist-packages (from nltk->gpt-index) (4.64.0)\n",
      "Requirement already satisfied: regex>=2021.8.3 in /usr/local/lib/python3.9/dist-packages (from nltk->gpt-index) (2022.7.9)\n",
      "Requirement already satisfied: click in /usr/local/lib/python3.9/dist-packages (from nltk->gpt-index) (8.1.3)\n",
      "Requirement already satisfied: typing-extensions in /usr/local/lib/python3.9/dist-packages (from openai->gpt-index) (4.3.0)\n",
      "Collecting pandas-stubs>=1.1.0.11\n",
      "  Downloading pandas_stubs-1.5.2.221124-py3-none-any.whl (146 kB)\n",
      "\u001b[2K     \u001b[90m━━━━━━━━━━━━━━━━━━━━━━━━━━━━━━━━━━━━━━\u001b[0m \u001b[32m146.4/146.4 kB\u001b[0m \u001b[31m39.4 MB/s\u001b[0m eta \u001b[36m0:00:00\u001b[0m\n",
      "\u001b[?25hRequirement already satisfied: pandas>=1.2.3 in /usr/local/lib/python3.9/dist-packages (from openai->gpt-index) (1.4.3)\n",
      "Collecting openpyxl>=3.0.7\n",
      "  Downloading openpyxl-3.0.10-py2.py3-none-any.whl (242 kB)\n",
      "\u001b[2K     \u001b[90m━━━━━━━━━━━━━━━━━━━━━━━━━━━━━━━━━━━━━━\u001b[0m \u001b[32m242.1/242.1 kB\u001b[0m \u001b[31m53.4 MB/s\u001b[0m eta \u001b[36m0:00:00\u001b[0m\n",
      "\u001b[?25hCollecting tenacity>=6.2.0\n",
      "  Downloading tenacity-8.1.0-py3-none-any.whl (23 kB)\n",
      "Requirement already satisfied: threadpoolctl>=2.0.0 in /usr/local/lib/python3.9/dist-packages (from scikit-learn->gpt-index) (3.1.0)\n",
      "Requirement already satisfied: huggingface-hub<1.0,>=0.1.0 in /usr/local/lib/python3.9/dist-packages (from transformers->gpt-index) (0.8.1)\n",
      "Requirement already satisfied: tokenizers!=0.11.3,<0.13,>=0.11.1 in /usr/local/lib/python3.9/dist-packages (from transformers->gpt-index) (0.12.1)\n",
      "Requirement already satisfied: filelock in /usr/local/lib/python3.9/dist-packages (from transformers->gpt-index) (3.7.1)\n",
      "Requirement already satisfied: et-xmlfile in /usr/lib/python3/dist-packages (from openpyxl>=3.0.7->openai->gpt-index) (1.0.1)\n",
      "Requirement already satisfied: pytz>=2020.1 in /usr/local/lib/python3.9/dist-packages (from pandas>=1.2.3->openai->gpt-index) (2022.1)\n",
      "Collecting types-pytz>=2022.1.1\n",
      "  Downloading types_pytz-2022.6.0.1-py3-none-any.whl (4.7 kB)\n",
      "Requirement already satisfied: six>=1.5 in /usr/lib/python3/dist-packages (from python-dateutil>=2.7->matplotlib->gpt-index) (1.14.0)\n",
      "Requirement already satisfied: certifi>=2017.4.17 in /usr/lib/python3/dist-packages (from requests<3,>=2->langchain->gpt-index) (2019.11.28)\n",
      "Requirement already satisfied: urllib3<1.27,>=1.21.1 in /usr/local/lib/python3.9/dist-packages (from requests<3,>=2->langchain->gpt-index) (1.26.10)\n",
      "Requirement already satisfied: idna<4,>=2.5 in /usr/lib/python3/dist-packages (from requests<3,>=2->langchain->gpt-index) (2.8)\n",
      "Requirement already satisfied: charset-normalizer<3,>=2 in /usr/local/lib/python3.9/dist-packages (from requests<3,>=2->langchain->gpt-index) (2.1.0)\n",
      "Requirement already satisfied: greenlet!=0.4.17 in /usr/local/lib/python3.9/dist-packages (from SQLAlchemy<2,>=1->langchain->gpt-index) (1.1.2)\n",
      "Collecting mypy-extensions>=0.3.0\n",
      "  Downloading mypy_extensions-0.4.3-py2.py3-none-any.whl (4.5 kB)\n",
      "Building wheels for collected packages: gpt-index, openai\n",
      "  Building wheel for gpt-index (pyproject.toml) ... \u001b[?25ldone\n",
      "\u001b[?25h  Created wheel for gpt-index: filename=gpt_index-0.1.0-py3-none-any.whl size=61933 sha256=dd37d15bb47e333335e1760f81fdf89c48c80e727dd47d480a77f819f2b10f25\n",
      "  Stored in directory: /root/.cache/pip/wheels/33/0c/93/397ee2d08a99ac56d411b61a36ec572e80bb5f33d6674437c0\n",
      "  Building wheel for openai (pyproject.toml) ... \u001b[?25ldone\n",
      "\u001b[?25h  Created wheel for openai: filename=openai-0.25.0-py3-none-any.whl size=55858 sha256=e34b5439776f4c463d2377dba5bfcfc003c3d0a6df040db242022b207c77449c\n",
      "  Stored in directory: /root/.cache/pip/wheels/cf/3e/68/12229a483d9f6efc576a87b40034451b1fcaee5bd8c24b6de9\n",
      "Successfully built gpt-index openai\n",
      "Installing collected packages: types-pytz, mypy-extensions, typing-inspect, tenacity, PyYAML, pandas-stubs, openpyxl, plotly, marshmallow, langchain, openai, marshmallow-enum, dataclasses-json, gpt-index\n",
      "  Attempting uninstall: PyYAML\n",
      "    Found existing installation: PyYAML 5.4.1\n",
      "    Uninstalling PyYAML-5.4.1:\n",
      "      Successfully uninstalled PyYAML-5.4.1\n",
      "  Attempting uninstall: openpyxl\n",
      "    Found existing installation: openpyxl 3.0.3\n",
      "    Uninstalling openpyxl-3.0.3:\n",
      "      Successfully uninstalled openpyxl-3.0.3\n",
      "  Attempting uninstall: marshmallow\n",
      "    Found existing installation: marshmallow 2.21.0\n",
      "    Uninstalling marshmallow-2.21.0:\n",
      "      Successfully uninstalled marshmallow-2.21.0\n",
      "\u001b[31mERROR: pip's dependency resolver does not currently take into account all the packages that are installed. This behaviour is the source of the following dependency conflicts.\n",
      "gradient 2.0.5 requires marshmallow<3.0, but you have marshmallow 3.19.0 which is incompatible.\n",
      "gradient 2.0.5 requires PyYAML==5.*, but you have pyyaml 6.0 which is incompatible.\u001b[0m\u001b[31m\n",
      "\u001b[0mSuccessfully installed PyYAML-6.0 dataclasses-json-0.5.7 gpt-index-0.1.0 langchain-0.0.34 marshmallow-3.19.0 marshmallow-enum-1.5.1 mypy-extensions-0.4.3 openai-0.25.0 openpyxl-3.0.10 pandas-stubs-1.5.2.221124 plotly-5.11.0 tenacity-8.1.0 types-pytz-2022.6.0.1 typing-inspect-0.8.0\n",
      "\u001b[33mWARNING: Running pip as the 'root' user can result in broken permissions and conflicting behaviour with the system package manager. It is recommended to use a virtual environment instead: https://pip.pypa.io/warnings/venv\u001b[0m\u001b[33m\n",
      "\u001b[0mNote: you may need to restart the kernel to use updated packages.\n"
     ]
    }
   ],
   "source": [
    "%pip install gpt-index"
   ]
  },
  {
   "cell_type": "code",
   "execution_count": 50,
   "metadata": {},
   "outputs": [],
   "source": [
    "# My OpenAI Key\n",
    "import os\n",
    "os.environ['OPENAI_API_KEY'] = \"OPENAI_API_KEY\""
   ]
  },
  {
   "cell_type": "code",
   "execution_count": 51,
   "metadata": {},
   "outputs": [],
   "source": [
    "from gpt_index import GPTTreeIndex, SimpleDirectoryReader, LLMPredictor\n",
    "from IPython.display import Markdown, display\n",
    "from langchain import OpenAI"
   ]
  },
  {
   "cell_type": "code",
   "execution_count": 53,
   "metadata": {},
   "outputs": [
    {
     "data": {
      "application/vnd.jupyter.widget-view+json": {
       "model_id": "4c138f085c4f4ccabb95175ec2726d78",
       "version_major": 2,
       "version_minor": 0
      },
      "text/plain": [
       "Downloading:   0%|          | 0.00/0.99M [00:00<?, ?B/s]"
      ]
     },
     "metadata": {},
     "output_type": "display_data"
    },
    {
     "data": {
      "application/vnd.jupyter.widget-view+json": {
       "model_id": "b9562acf27664a8e97821ca400ee5157",
       "version_major": 2,
       "version_minor": 0
      },
      "text/plain": [
       "Downloading:   0%|          | 0.00/446k [00:00<?, ?B/s]"
      ]
     },
     "metadata": {},
     "output_type": "display_data"
    },
    {
     "data": {
      "application/vnd.jupyter.widget-view+json": {
       "model_id": "ff647caaf8784e01b0bccbef365d4e35",
       "version_major": 2,
       "version_minor": 0
      },
      "text/plain": [
       "Downloading:   0%|          | 0.00/1.29M [00:00<?, ?B/s]"
      ]
     },
     "metadata": {},
     "output_type": "display_data"
    },
    {
     "data": {
      "application/vnd.jupyter.widget-view+json": {
       "model_id": "23a89512c66946b1900cb4f2a1f5eb45",
       "version_major": 2,
       "version_minor": 0
      },
      "text/plain": [
       "Downloading:   0%|          | 0.00/665 [00:00<?, ?B/s]"
      ]
     },
     "metadata": {},
     "output_type": "display_data"
    },
    {
     "name": "stdout",
     "output_type": "stream",
     "text": [
      "> Building index from nodes: 18 chunks\n",
      "0/184\n",
      "> 0/184, summary: \n",
      "Twitter allows you to reset your password if you have forgotten it or if you want to change it. You can do this by logging in with your username and password, checking other platforms to see if you are still logged in, or by verifying what information you can. If you can't determine the valid email, you can start with your phone number. Twitter will send a code to the phone associated with your account so you can reset your password. If you receive a prompt saying more than one Twitter account is associated with a phone number, this option won't work for you.\n",
      "10/184\n",
      "> 10/184, summary: \n",
      "Twitter allows third-party apps to request access to perform different actions using your Twitter account. You can review and revoke access for apps by visiting the Apps and sessions section of your account settings.\n",
      "20/184\n",
      "> 20/184, summary: \n",
      "Twitter Toolbox is a hub where you can discover other self-serve, third-party tools created by developers to enhance your Twitter experience. It currently offers a selection of tools in 3 categories: Expression, Safety, and Measurement. You can add a tool by following the steps on the Twitter Toolbox website. If you ever want to remove a tool, you can go to the Apps and sessions section of your account settings.\n",
      "30/184\n",
      "> 30/184, summary: \n",
      "The Tweet activity dashboard is a tool you can use to learn more about your Tweets and how they resonate with your audience. You can use the dashboard to see how people engage with your Tweets in real time, compare your Tweet activity and followers, and see how they trend over time. You can also click on any Tweet to get a detailed view of the number of Retweets, replies, likes, follows, or clicks it receives. Additionally, the dashboard provides detailed insights into who your audience is, especially those who engage with your Tweets.\n",
      "40/184\n",
      "> 40/184, summary: \n",
      "If you're having trouble with the Twitter app on your iPhone, iPad, or iPod Touch, these troubleshooting tips should help. First, try restarting your device. If that doesn't work, check your network connection or remove and re-add your account from the app or from settings. You can also try uninstalling and reinstalling the app, or if you have an outdated version, update the app. If you're still having trouble, check iTunes Support for tips to troubleshoot download issues.\n",
      "50/184\n",
      "> 50/184, summary: \n",
      "If you're having trouble signing in to Twitter, it may be due to incorrect time zone settings or an outdated version of the Twitter client application. Make sure your Twitter client is up to date and that the date, time, and time zone settings are set to update automatically.\n",
      "\n",
      "Some people experience issues with third-party keyboards on iOS devices. For the best Twitter experience, make sure you're using the keyboard that came with your iPhone or iPad.\n",
      "\n",
      "If you're having trouble with the Twitter for Android app, first restart your device. If that doesn't work, try clearing the app's data, logging out and back in, or uninstalling and reinstalling the app.\n",
      "\n",
      "If you're seeing \"Unauthorized or Invalid username and Password\" when you try to sign in, this is likely caused by incorrect time zone settings or an outdated version of the Twitter client application. Please make sure your Twitter client is up to date with the latest version and that the date, time and timezone settings are set to update automatically.\n",
      "60/184\n",
      "> 60/184, summary: \n",
      "Twitter's new Subscriptions feature allows creators to earn monthly income from their content. To be eligible, creators must be based in the United States and meet Twitter's criteria. Subscriptions are available on Twitter for iOS and Android, as well as on twitter.com in the US, Canada, New Zealand, and Australia. Interaction with Subscriptions content is only available from an iOS or Android device.\n",
      "70/184\n",
      "> 70/184, summary: \n",
      "#blkcreatives is a community of Black creative professionals looking to create full, healthy, and sustainable lives. Twitter has become a vital tool for how we not only build, but sustain the community. @blkcreatives is so special to our industry because we take every opportunity and resource thatâs given to us, and pour it back into our community in some way.\n",
      "80/184\n",
      "> 80/184, summary: \n",
      "Twitter has been integral to the growth of Black Girl Gamers. The platform has allowed for discussions, updates, and news in the gaming industry, as well as a way to express personality. Gaming can be exclusionary, and Black Girl Gamers has worked to change that. The team has used Twitter to connect with other black women gamers and create a supportive community.\n",
      "90/184\n",
      "> 90/184, summary: \n",
      "Twitter has been a key part of Black Girl Gamers' strategy to change the game for black women in the gaming industry. By using Twitter to share their experiences and opinions, they have been able to reach a large audience and spark important conversations about diversity and inclusion.\n",
      "100/184\n",
      "> 100/184, summary: \n",
      "The #AguaParaAyutlaYa hashtag has been used to keep the conversation alive around the basic human right to accessing water in the Ayutla community in Mexico, and has accompanied their peaceful struggle to achieve justice. The hashtag was started by YÃ¡snaya Elena Aguilar Gil after her community was left without access to drinking water for two years, and Gabriela JaÃºregui helped to actively denounce the situation. Thousands of people have joined the cause, and the local authorities have accepted an interlocution with the community. However, they have not yet been able to reconnect to their water source, and the struggle continues.\n",
      "110/184\n",
      "> 110/184, summary: \n",
      "Winnieteca is a Twitter account that is dedicated to sharing knowledge and information. The account is run by a woman who is from a black, working-class background. She was raised in a home with many books, and her love of learning was encouraged. However, when she went to school, she was often the only black child in her class. This experience made her realize the importance of sharing knowledge and information with others.\n",
      "\n",
      "Winnieteca provides a space for people to share and learn about various topics. The account is a valuable resource for those who want to learn more about the world around them.\n",
      "120/184\n",
      "> 120/184, summary: \n",
      "Winnie Bueno, a black Brazilian woman, was raised in a household full of books. Her grandmother taught her to read, and her mother encouraged her to think critically and learn as much as she could. However, when she went to school, she was often the only black child in her class and was subjected to racism and violence from her classmates.\n",
      "\n",
      "Winnie started the Winnieteca experience as a way to combat racism and democratize access to knowledge. The Winnieteca is a chatbot on Twitter that connects people who need books with people who can donate books. To date, the Winnieteca has helped thousands of people access books and knowledge.\n",
      "130/184\n",
      "> 130/184, summary: \n",
      "Winnie Bueno created the Winnieteca, a book-sharing network for black people, in order to help resist racism. The network has grown significantly since its creation and has even received support from famous celebrities. The ultimate goal of the Winnieteca is to provide access to knowledge and tools for everyone, regardless of race.\n",
      "140/184\n",
      "> 140/184, summary: \n",
      "Twitter is a social media platform that allows users to share brief messages with the world. It is important to know that Twitter does not screen content or remove potentially offensive content. However, targeted abuse or harassment may be a violation of the Twitter Rules. If you see something on Twitter you disagree with, consider the context of the conversation before taking any action.\n",
      "150/184\n",
      "> 150/184, summary: \n",
      "Twitter has a policy against glorifying violence. This includes praising, celebrating, or condoning violent crimes, terrorist attacks, or violent events where people were targeted because of their membership in a protected group. Anyone can report potential violations of this policy, whether they have a Twitter account or not. The consequences for violating this policy depend on the severity of the violation and the accountâs previous history of violations.\n",
      "160/184\n",
      "> 160/184, summary: \n",
      "If you are concerned about the use of your brand or entity’s name, please review Twitter’s trademark policy. If you are concerned about a parody, newsfeed, commentary, or fan account, please see the relevant policy here. These are generally not copyright issues.\n",
      "\n",
      "To submit a notice of claimed copyright infringement, you will need to provide Twitter with the following information:\n",
      "\n",
      "A physical or electronic signature of the copyright owner or a person authorized to act on their behalf;\n",
      "\n",
      "Identification of the copyrighted work claimed to have been infringed;\n",
      "\n",
      "Identification of the infringing material and information reasonably sufficient to permit Twitter to locate the material on their website or services;\n",
      "\n",
      "Your contact information, including your address, telephone number, and an email address;\n",
      "\n",
      "A statement that you have a good faith belief that the use of the material in the manner asserted is not authorized by the copyright owner, its agent, or the law; and\n",
      "\n",
      "A statement that the information in the complaint is accurate, and, under penalty of perjury, that you are authorized to act on behalf of the copyright owner.\n",
      "\n",
      "If you are reporting the content of a Tweet, please give Twitter a direct link to that Tweet. Or please specify if the\n",
      "170/184\n",
      "> 170/184, summary: \n",
      "Twitter has limits in place to alleviate strain on the behind-the-scenes part of Twitter and reduce downtime and error pages. The current limits for accounts are: Direct Messages (daily): The limit is 500 messages sent per day.Tweets: 2,400 per day. The daily update limit is further broken down into smaller limits for semi-hourly intervals. Retweets are counted as Tweets.Changes to account email: 4 per hour.Following (daily): The technical follow limit is 400 per day. Please note that this is a technical account limit only, and there are additional rules prohibiting aggressive following behavior. Following (account-based): Once an account is following 5,000 other accounts, additional follow attempts are limited by account-specific ratios. These limits include actions from all devices, including web, mobile, phone, API, etc. API requests from all third-party applications are tracked against the hourly API limit. People who use multiple third-party applications with their account will therefore reach the API limit more quickly. These limits may be temporarily reduced during periods of heavy site usage. In such cases, we will post an update on the Twitter status site.\n",
      "180/184\n",
      "> 180/184, summary: \n",
      "Subscriptions is a service from Twitter that allows users to pay for exclusive content from their favorite creators. To be eligible for Subscriptions, creators must have a Twitter account that is at least 3 months old and has at least 10,000 active followers. They must also have posted at least 25 Tweets in the past 30 days.\n",
      "\n",
      "Subscriptions is currently only available to creators in the United States. Twitter prohibits individuals and entities from using Subscriptions in violation of applicable laws, regulations, and/or the Subscriptions creator terms.\n",
      "\n",
      "Conduct and content requirements for Subscriptions creators include compliance with the Twitter user agreement and Twitter Rules. creators must also only monetize content that they have the rights to monetize, and they must adhere to Twitter's Content monetization standards.\n",
      "\n",
      "If a creator violates any of the requirements for Subscriptions, Twitter may take enforcement action, up to and including permanently revoking their ability to participate in the program and/or access to other Twitter products.\n",
      "> Building index from nodes: 1 chunks\n",
      "0/19\n",
      "> 0/19, summary: \n",
      "Twitter is a social media platform that allows users to share updates, thoughts, and opinions. The platform can be used to connect with other users, as well as to access news and information. Twitter also offers a number of features, such as the ability to reset your password, that can be helpful if you forget your login information or want to change your password. Additionally, Twitter Toolbox is a hub where you can discover other self-serve, third-party tools created by developers to enhance your Twitter experience.\n",
      "10/19\n",
      "> 10/19, summary: \n",
      "The #AguaParaAyutlaYa hashtag has been used to keep the conversation alive around the basic human right to accessing water in the Ayutla community in Mexico, and has accompanied their peaceful struggle to achieve justice. The hashtag was started by YÃ¡snaya Elena Aguilar Gil after her community was left without access to drinking water for two years, and Gabriela JaÃºregui helped to actively denounce the situation. Thousands of people have joined the cause, and the local authorities have accepted an interlocution with the community. However, they have not yet been able to reconnect to their water source, and the struggle continues.\n"
     ]
    }
   ],
   "source": [
    "documents = SimpleDirectoryReader('data').load_data()\n",
    "index = GPTTreeIndex(documents)"
   ]
  },
  {
   "cell_type": "code",
   "execution_count": 54,
   "metadata": {},
   "outputs": [],
   "source": [
    "index.save_to_disk('twitter_index.json')"
   ]
  },
  {
   "cell_type": "code",
   "execution_count": 55,
   "metadata": {},
   "outputs": [],
   "source": [
    "llm_predictor = LLMPredictor(llm=OpenAI(temperature=0, model_name=\"text-davinci-003\"))\n",
    "new_index = GPTTreeIndex.load_from_disk('twitter_index.json', llm_predictor=llm_predictor)"
   ]
  },
  {
   "cell_type": "code",
   "execution_count": 58,
   "metadata": {},
   "outputs": [
    {
     "name": "stdout",
     "output_type": "stream",
     "text": [
      "> Starting query: How do I delete my tweet\n",
      ">[Level 0] Selected node: [1]/[1]\n",
      ">[Level 0] Node [1] Summary text:  Twitter is a social media platform that allows users to share updates, thoughts, and opinions. The platform can be used to connect with other users, as well as to access news and information. Twitter also offers a number of features, such as the ability to reset your password, that can be helpful if you forget your login information or want to change your password. Additionally, Twitter Toolbox is a hub where you can discover other self-serve, third-party tools created by developers to enhance your Twitter experience.\n",
      ">[Level 1] Selected node: [3]/[3]\n",
      ">[Level 1] Node [3] Summary text:  Twitter Toolbox is a hub where you can discover other self-serve, third-party tools created by developers to enhance your Twitter experience. It currently offers a selection of tools in 3 categories: Expression, Safety, and Measurement. You can add a tool by following the steps on the Twitter Toolbox website. If you ever want to remove a tool, you can go to the Apps and sessions section of your account settings.\n",
      ">[Level 2] Selected node: [8]/[8]\n",
      ">[Level 2] Node [8] Summary text: account, not the accounts of the other participants to the communication. Â  Email Address In addition to the permissions above, apps may also ask for permission to view the email address associated with your Twitter account. Â  Twitter Ads If you use Twitter Ads, apps may also ask to: Analytics: Access your advertising data, including your campaigns, audiences, business and ad account information (such as account name, ID, and creation date, business name, timezone, and users), ad account and user settings (such as notification email, contact phone number and extensions, industry type, email subscription settings, and tax settings), and creatives and media. Campaign and account management: Access your advertising data as described above, create and manage your advertising data (such as media, creatives, campaigns, and audiences) for you, and manage your account (such as account name, industry type, account and user settings, etc.).Â Â  Â   Learn more about granting access to your Twitter Ads account with multi-user login. Â  OAuth 2.0 User Context OAuth 2.0 User Context enables a developer to set more granular access for their app. Apps using OAuth 2.0 User Context may may ask for permissions in the following categories: Read Read permissions define what an app can see in your Twitter account. For example, an app may ask permission to view things like: All the Tweets and Spaces you can view, including Tweets from protected accounts.People who follow you and people you follow.Accounts you've muted\n"
     ]
    }
   ],
   "source": [
    "response = new_index.query(\"How do I delete my tweet\")"
   ]
  },
  {
   "cell_type": "code",
   "execution_count": 59,
   "metadata": {},
   "outputs": [
    {
     "data": {
      "text/markdown": [
       "To delete your tweet, log in to your Twitter account and navigate to the tweet you want to delete. Click the three dots icon next to the tweet and select \"Delete\" from the drop-down menu. Confirm that you want to delete the tweet and it will be removed from your account."
      ],
      "text/plain": [
       "<IPython.core.display.Markdown object>"
      ]
     },
     "metadata": {},
     "output_type": "display_data"
    }
   ],
   "source": [
    "display(Markdown(f\"{response}\"))"
   ]
  }
 ],
 "metadata": {
  "kernelspec": {
   "display_name": "Python 3 (ipykernel)",
   "language": "python",
   "name": "python3"
  },
  "orig_nbformat": 4
 },
 "nbformat": 4,
 "nbformat_minor": 2
}
